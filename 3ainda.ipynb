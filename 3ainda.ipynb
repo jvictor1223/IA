{
 "cells": [
  {
   "cell_type": "markdown",
   "metadata": {},
   "source": [
    "## Questões teóricas"
   ]
  },
  {
   "cell_type": "markdown",
   "metadata": {},
   "source": [
    "Quais são os componentes de um problema de satisfação de restrições (Contraint Satisfaction Problem - CSP)? Apresente definições de cada componente."
   ]
  },
  {
   "cell_type": "markdown",
   "metadata": {},
   "source": [
    "Pode se dizer que os CSP dsão compostos por 3 componentes:\n",
    "As varáveis\n",
    "Dominios\n",
    "Condições\n",
    "\n",
    "X - Variáveis: Definem as variáveis do problema, por exemplo, em um tabuleiro as variáveis são as locações ixj\n",
    "D - Dominios: Define o domínio do problema, por exemplo, em um palavra-chave são as combinações de palavras\n",
    "C - Condições: são condições definidas para que funcione o sistema  "
   ]
  },
  {
   "cell_type": "markdown",
   "metadata": {},
   "source": [
    "## Generate-and-test"
   ]
  },
  {
   "cell_type": "markdown",
   "metadata": {},
   "source": [
    "Generate and Test Search é uma técnica de busca heurística baseada em profundidade com Backtracking que garante encontrar uma solução se feita sistematicamente e se houver uma solução. \n",
    "Nesta técnica, todas as soluções são geradas e testadas para a melhor solução. \n",
    "Ele garante que a melhor solução seja verificada em relação a todas as possíveis soluções geradas.\n",
    "\n",
    "Também é conhecido como Algoritmo de Pesquisa do Museu Britânico, pois é como procurar uma exposição aleatoriamente ou encontrar um objeto no Museu Britânico vagando aleatoriamente.\n",
    "\n",
    "A avaliação é realizada pela função heurística, pois todas as soluções são geradas sistematicamente no algoritmo de geração e teste, mas se houver alguns caminhos que provavelmente não nos levarão ao resultado, eles não serão considerados. \n",
    "A heurística faz isso classificando todas as alternativas e geralmente é eficaz ao fazê-lo. \n",
    "A geração e o teste sistemáticos podem se mostrar ineficazes ao resolver problemas complexos. Mas existe uma técnica para melhorar também em casos complexos, combinando gerar e testar a busca com outras técnicas para reduzir o espaço de busca. \n",
    "Por exemplo, no Programa de Inteligência Artificial DENDRAL, fazemos uso de duas técnicas, a primeira é Técnicas de Satisfação de Restrições seguidas por Gerar e Procedimento de Teste para trabalhar em espaço de pesquisa reduzido, ou seja, produzir um resultado eficaz trabalhando em um número menor de listas geradas no próprio Primeiro passo."
   ]
  },
  {
   "cell_type": "markdown",
   "metadata": {},
   "source": [
    "## Como podemos utilizar os algoritmos de busca vistos na semana anterior para resolver CSPs?"
   ]
  },
  {
   "cell_type": "markdown",
   "metadata": {},
   "source": [
    "O algoritmo backtracking é o algoritmo básico de busca não informada para um CSP.\n",
    "\n",
    "Basicamente é uma busca em profundidade levando em conta:\n",
    "\n",
    "• Cada nó atribui valores para apenas uma variável\n",
    "\n",
    "• Não atribui valores que conflitam com alguma restrição\n",
    "\n",
    "• Para de expandir um nó ao atingir uma solução infactível\n",
    "\n",
    "Backtracking é um refinamento do algoritmo de busca por força bruta (ou enumeração exaustiva), no qual boa parte das soluções podem ser eliminadas sem serem explicitamente examinadas. \n",
    "Se aplica em: Problemas cuja solução pode ser definida a partir de uma seqüência de decisões.\n",
    "Se existir mais de uma decisão disponível para cada uma das n decisões, a busca exaustiva será exponencial.\n",
    "\n",
    "• A eficiência da estratégia depende da possibilidade de limitar a busca, ou seja, podar a árvore eliminando os ramos que não levam à solução desejada.\n",
    "\n",
    "• Para tanto é necessário definir um espaço de solução para o problema:\n",
    "\n",
    "• Que inclua a solução ótima\n",
    "\n",
    "• Que possa ser pesquisada de forma organizada\n",
    "(tipicamente como uma árvore).\n",
    "\n",
    "Técnica em procedimentos de busca que corresponde ao retorno de uma exploração.\n",
    "\n",
    "• Ex: Busca-em-Profundidade (já visto)\n",
    "\n",
    "• Quando chegamos a um nó v pela primeira vez, cada aresta incidente a v é explorada e então o controle volta (backtracks) ao nó a partir do qual v foi alcançado. "
   ]
  },
  {
   "cell_type": "markdown",
   "metadata": {},
   "source": [
    "## Considere o seguinte CSP:"
   ]
  },
  {
   "cell_type": "markdown",
   "metadata": {},
   "source": [
    "a) O espaço de busca/ O problema pode ter 4*4*4(81) soluções\n",
    "b) XiDiCj e C<tj,Rj>tj c XkRjkDjv<tj, Rj> tjRj"
   ]
  },
  {
   "cell_type": "markdown",
   "metadata": {},
   "source": [
    "## Como CSPs podem ser resolvidos como problemas de otimização"
   ]
  },
  {
   "cell_type": "markdown",
   "metadata": {},
   "source": [
    "Pode se utilizar o backtracking para resolver o problema, pois é um algorito sistematico/ exaustivo testando todas as atribuições\n",
    "O estado é uma atribuição de valores, atribuição parcial ou total, somando o valor de variação ate chegar a uma atribuição total\n",
    "Vizinhos: estados com mudança em uma variável\n",
    "Necessidade de função de avaliação de estados!\n",
    "F   (estados) => R\n",
    "\n",
    "Em um CSP queremos atingir um ponto onde não se viole as restrições, então caso use o numero de violações viladas como representante, então será um prblema de minimização, sendo 0 violações"
   ]
  },
  {
   "cell_type": "markdown",
   "metadata": {},
   "source": [
    "## Defina algoritmo determinístico e algoritmo estocástico"
   ]
  },
  {
   "cell_type": "markdown",
   "metadata": {},
   "source": [
    "Algoritimo determinístico é tpermitir que o algoritmo mude de ideiais e o algoritimo estocástico são usados ​​em tecnologia de inteligência artificial para resolver problemas baseados em probabilidades."
   ]
  },
  {
   "cell_type": "markdown",
   "metadata": {},
   "source": [
    "O algoritmo de subida de colina é um algoritmo de busca local que se move continuamente na direção de elevação/valor crescente para encontrar o pico da montanha ou a melhor solução para o problema. Ele termina quando atinge um valor de pico onde nenhum vizinho tem um valor mais alto. O algoritmo de subida de colinas é uma técnica que é usada para otimizar os problemas matemáticos. Um dos exemplos amplamente discutidos do algoritmo de escalada de colinas é o Problema do Caixeiro Viajante, no qual precisamos minimizar a distância percorrida pelo vendedor. Também é chamado de busca local gananciosa, pois apenas olha para o seu bom estado vizinho imediato e não além disso. Um nó de algoritmo de subida de colina tem dois componentes que são estado e valor. Hill Climbing é usado principalmente quando uma boa heurística está disponível. Neste algoritmo, não precisamos manter e manipular a árvore de busca ou o gráfico, pois ele mantém apenas um único estado atual.\n",
    "A seguir estão algumas características principais do algoritmo Hill Climbing:\n",
    "\n",
    "Variante Gerar e Testar: Hill Climbing é a variante do método Gerar e Testar. O método Gerar e Testar produz feedback que ajuda a decidir qual direção seguir no espaço de busca.\n",
    "Abordagem gananciosa: a busca do algoritmo de escalada se move na direção que otimiza o custo.\n",
    "Sem retrocesso: Não retrocede o espaço de busca, pois não lembra os estados anteriores.\n",
    "\n",
    "Recozimento simulado (ou Simulated Annealing) é uma meta-heurística para otimização que consiste numa técnica de busca local probabilística, e se fundamenta numa analogia com a termodinâmica.\n",
    "Esta técnica começa sua busca a partir de uma solução inicial qualquer. O procedimento principal consiste em um loop ou laço que a cada iteração, gera aleatoriamente um único vizinho s’ da solução corrente s.\n",
    "\n",
    "A cada geração de um novo vizinho s’ de s, é testada a variação ∆ do valor da função objetivo, isto é, ∆ = f (s’) – f (s), onde temos as seguintes situações:\n",
    "\n",
    "∆ < 0: Há uma redução de energia, a qual implica que a nova solução é melhor que a anterior. O método aceita a solução e s’ passa a ser a nova solução corrente.\n",
    "∆ = 0: Caso de estabilidade, não havendo redução de energia. Na verdade, situação pouco provável de acontecer na prática. A aceitação da solução é, portanto, indiferente.\n",
    "∆ > 0: Houve um aumento do estado de energia. A aceitação desse tipo de solução é mais provável a altas temperaturas e bastante improvável a temperaturas reduzidas. Para reproduzir essas características, geralmente usa-se, para calcular a probabilidade de se aceitar a nova solução, uma função conhecida por fator de Boltzmann, que é dada por e^(-∆/T), onde T é um parâmetro do método, chamado de temperatura e que regula a probabilidade de soluções com pior custo. Por exemplo, esta poderá ser:\n",
    "Gera-se um número aleatório retirado de uma distribuição uniforme no intervalo [0, 1].\n",
    "Se este número for menor ou igual a “p”, aceita-se a solução.\n",
    "Se for maior que “p”, rejeita-se a solução.\n",
    "A temperatura T assume inicialmente um valor elevado, {\\displaystyle T0}T0. Após um número fixo de iterações (o qual representa o número de iterações para o sistema atingir o equilíbrio térmico em uma dada temperatura), a temperatura é gradativamente diminuída por uma razão de resfriamento α, tal que Tn ← α * Tn -1, sendo 0 < α < 1. Como esse procedimento se dá no início, há uma chance maior de se escapar de mínimos locais e, à medida que T se aproxima de zero, o algoritmo se comporta como o método de descida, uma vez que diminui a probabilidade de se aceitar movimentos que possa piorar (T → 0 => e-∆/T → 0).\n",
    "\n",
    "O procedimento é finalizado quando a temperatura chega a um valor próximo de zero e nenhuma solução que piore o valor da melhor solução seja mais aceita, ou seja, quando o sistema estiver estável. A solução obtida quando o sistema encontra-se nesta situação evidencia o encontro de um mínimo local.\n",
    "\n",
    "Algoritmos baseados em Simulated Annealing geralmente incluem reaquecimento seguido de um novo processo de resfriamento, utilizado quando a quantidade de movimentos consecutivamente rejeitados é alta. É também comum trabalhar nas temperaturas mais altas com taxa de resfriamento menor e aumentá-la quando a temperatura reduzir.\n",
    "\n",
    "Algoritmos Genéticos são inspirados no princípio Darwiniano da evolução das espécies e na genética [1]. São algoritmos probabilísticos que fornecem um mecanismo de busca paralela e adaptativa baseado no princípio de sobrevivência dos mais aptos e na reprodução.Os princípios da natureza nos quais os\n",
    "GAs se inspiram são simples. De acordo com a teoria de C. Darwin, o princípio de seleção privilegia os indivíduos mais aptos com maior longevidade e, portanto, com maior probabilidade de reprodução. Indivíduos com mais descendentes têm mais chance de perpetuarem seus códigos genéticos nas próximas gerações. Tais códigosgenéticos constituem a identidade de cada indivíduo e estão representados nos cromossomas.\n",
    "Estes princípios são imitados na construção de algoritmos computacionais que buscam uma melhor solução para um determinado problema, através da evolução de populações de soluções codificadas através de cromossomas artificiais.\n",
    "Em GAs um cromossoma é uma estrutura de dados que representa uma das possíveis soluções do espaço de busca do problema.\n",
    "Cromossomas são então submetidos a um processo evolucionário que envolve avaliação, seleção, recombinação sexual (crossover) e mutação. Após vários ciclos de evolução a população deverá conter indivíduos mais aptos"
   ]
  }
 ],
 "metadata": {
  "interpreter": {
   "hash": "5dcb956a9836ff1b933445fcf1feb8fe66535bc0a9a9152eaf00f8fb8a7284e4"
  },
  "kernelspec": {
   "display_name": "Python 3.10.3 64-bit",
   "language": "python",
   "name": "python3"
  },
  "language_info": {
   "name": "python",
   "version": "3.10.3"
  },
  "orig_nbformat": 4
 },
 "nbformat": 4,
 "nbformat_minor": 2
}
