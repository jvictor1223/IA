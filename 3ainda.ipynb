{
 "cells": [
  {
   "cell_type": "markdown",
   "metadata": {},
   "source": [
    "## Questões teóricas"
   ]
  },
  {
   "cell_type": "markdown",
   "metadata": {},
   "source": [
    "Quais são os componentes de um problema de satisfação de restrições (Contraint Satisfaction Problem - CSP)? Apresente definições de cada componente."
   ]
  },
  {
   "cell_type": "markdown",
   "metadata": {},
   "source": [
    "Pode se dizer que os CSP dsão compostos por 3 componentes:\n",
    "As varáveis\n",
    "Dominios\n",
    "Condições\n",
    "\n",
    "X - Variáveis: Definem as variáveis do problema, por exemplo, em um tabuleiro as variáveis são as locações ixj\n",
    "D - Dominios: Define o domínio do problema, por exemplo, em um palavra-chave são as combinações de palavras\n",
    "C - Condições: são condições definidas para que funcione o sistema  "
   ]
  },
  {
   "cell_type": "markdown",
   "metadata": {},
   "source": [
    "## Generate-and-test"
   ]
  },
  {
   "cell_type": "markdown",
   "metadata": {},
   "source": [
    "Generate and Test Search é uma técnica de busca heurística baseada em profundidade com Backtracking que garante encontrar uma solução se feita sistematicamente e se houver uma solução. \n",
    "Nesta técnica, todas as soluções são geradas e testadas para a melhor solução. \n",
    "Ele garante que a melhor solução seja verificada em relação a todas as possíveis soluções geradas.\n",
    "\n",
    "Também é conhecido como Algoritmo de Pesquisa do Museu Britânico, pois é como procurar uma exposição aleatoriamente ou encontrar um objeto no Museu Britânico vagando aleatoriamente.\n",
    "\n",
    "A avaliação é realizada pela função heurística, pois todas as soluções são geradas sistematicamente no algoritmo de geração e teste, mas se houver alguns caminhos que provavelmente não nos levarão ao resultado, eles não serão considerados. \n",
    "A heurística faz isso classificando todas as alternativas e geralmente é eficaz ao fazê-lo. \n",
    "A geração e o teste sistemáticos podem se mostrar ineficazes ao resolver problemas complexos. Mas existe uma técnica para melhorar também em casos complexos, combinando gerar e testar a busca com outras técnicas para reduzir o espaço de busca. \n",
    "Por exemplo, no Programa de Inteligência Artificial DENDRAL, fazemos uso de duas técnicas, a primeira é Técnicas de Satisfação de Restrições seguidas por Gerar e Procedimento de Teste para trabalhar em espaço de pesquisa reduzido, ou seja, produzir um resultado eficaz trabalhando em um número menor de listas geradas no próprio Primeiro passo.\n",
    "____\n",
    "O algoritmo de geração e teste para encontrar um modelo é o seguinte: verifique cada atribuição total por vez; se for encontrada uma atribuição que satisfaça todas as restrições, devolva essa atribuição. Um algoritmo de geração e teste para encontrar todos os modelos é o mesmo, exceto que, em vez de retornar o primeiro modelo encontrado, ele salva todos os modelos encontrados.\n",
    "\n",
    "If each of the n variable domains has size d, then D has d^n elements. If there are e constraints, the total number of constraints tested is O(ed^n). As n becomes large, this very quickly becomes intractable, \n",
    "and so we must find alternative solution methods."
   ]
  },
  {
   "cell_type": "markdown",
   "metadata": {},
   "source": [
    "## Como podemos utilizar os algoritmos de busca vistos na semana anterior para resolver CSPs?"
   ]
  },
  {
   "cell_type": "markdown",
   "metadata": {},
   "source": [
    "Os algoritmos de geração e teste atribuem valores a todas as variáveis ​​antes de verificar as restrições. Como as restrições individuais envolvem apenas um subconjunto das variáveis, algumas restrições podem ser testadas antes que todas as variáveis ​​tenham valores atribuídos. Se uma atribuição parcial for inconsistente com uma restrição, qualquer atribuição total que estenda a atribuição parcial também será inconsistente.\n",
    "An alternative to generate-and-test algorithms is to construct a search space for the search strategies of the previous chapter to use. The graph to search is defined as follows:\n",
    "\n",
    "• The nodes are assignments of values to some subset of the variables.\n",
    "• The neighbors of a node n are obtained by selecting a variable Y that is not assigned in node n and by having a neighbor for each assignment of a value to Y that does not violate any constraint. \n",
    "\n",
    "Suppose node n is the assignment {X1=v1,…,Xk=vk}. To find the neighbors of n, select a variable Y that is not in the set {X1,…,Xk}. For each value yi∈dom(Y), where X1=v1,…,Xk=vk,Y=yi is consistent with each of the constraints, the node {X1=v1,…,Xk=vk,Y=yi}is a neighbor of n.\n",
    "\n",
    "• The start node is the empty assignment that does not assign a value to any variables.\n",
    "• A goal node is a node that assigns a value to every variable. Note that this only exists if the assignment is consistent with all of the constraints.\n",
    "\n",
    "In this case, it is not the path from the start node that is of interest, but the goal nodes.\n",
    "\n",
    "In this figure, a node corresponds to all of the assignments from the root to that node. The potential nodes that are pruned because they violate constraints are labeled with ✘.\n",
    "\n",
    "The leftmost ✘ corresponds to the assignment  A=1, B = 1. This violates the A < B constraint, and so it is pruned.\n",
    "\n",
    "This CSP has four solutions. The leftmost one is A = 1, B = 2, C=3. The size of the search tree, and thus the efficiency of the algorithm, depends on which variable is selected at each time. A static ordering, such as always splitting on A then B then C, is usually less efficient than the dynamic ordering used here, but it might be more difficult to find the best dynamic ordering than to find the best static ordering. The set of answers is the same regardless of the variable ordering.\n",
    "\n",
    "There would be 43 = 64  total assignments tested in a generate-and-test algorithm. For the search method, there are 8 total assignments generated, and 16 other partial assignments that were tested for consistency. Searching this tree with a depth-first search, typically called backtracking, can be much more efficient than generate and test. Generate and test is equivalent to not checking constraints until reaching the leaves. Checking constraints higher in the tree can prune large subtrees that do not have to be searched.\n",
    "\n"
   ]
  },
  {
   "cell_type": "markdown",
   "metadata": {},
   "source": [
    "## Considere o seguinte CSP:"
   ]
  },
  {
   "cell_type": "markdown",
   "metadata": {},
   "source": [
    "a) O espaço de busca/ O problema pode ter 4*4*4(81) soluções\n",
    "\n",
    "b) <A,A < B >\n",
    "<B,A < B >\n",
    "<B,B < C >\n",
    "<C,B < C >\n",
    "\n",
    "c) Suppose the algorithm first selects the arc ⟨ A , A < B ⟩ . For A = 4 , there is no value of B that satisfies the constraint. Thus, 4 is pruned from the domain of A . Nothing is added to to_do because there is no other arc not in to_do. • Suppose that ⟨ B , A < B ⟩ is selected next. The value 1 is pruned from the domain of B . Again no arc is added to to_do. • Suppose that ⟨ B , B < C ⟩ is selected next. The value 4 is removed from the domain of B . Because the domain of B has been reduced, the arc ⟨ A , A < B ⟩ must be added back into the to_do set because the domain of A could potentially be reduced further now that the domain of B is smaller. • If the arc ⟨ A , A < B ⟩ is selected next, the value A = 3 is pruned from the domain of A . • The remaining arc on to_do is ⟨ C , B < C ⟩ . The values 1 and 2 are removed from the domain of C . No arcs are added to to_do because C is not involved in any other constraints, and to_do becomes empty.\n",
    "\n",
    "The algorithm then terminates with D A = { 1 , 2 } , D B = { 2 , 3 } , D C = { 3 , 4 } . Although this has not fully solved the problem, it has greatly simplified it. For example, depth-first backtrackingsearch would now solve the problem more efficiently.\n",
    "\n",
    "Regardless of the order in which the arcs are considered, the algorithm will terminate with the same result, namely, an arc consistent network and the same set of reduced domains. Three cases are possible, depending on the state of the network upon termination: \n",
    "\n",
    "• In the first case, one domain becomes empty, indicating there is no solution to the CSP. Note that, as soon as any one domain becomes empty, all the domains of connected nodes will become empty before the algorithm terminates. \n",
    "• In the second case, each domain has a singleton value, indicating that there is a unique solution to the CSP, as in Example 4.19. \n",
    "• In the third case, every domain is non-empty and at least one has multiple values left in it. In this case, we do not know whether there is a solution or what the solutions look like (unless just a single domain has multiple values). Methods to solve the problem in this case are explored in the following sections.\n",
    "\n",
    "d) Various extensions to arc consistency are also possible. The domains need not be finite; they may be specified using intensions, not just lists of their values. It is also possible to prune the constraints if the constraints are represented extensionally: if a value has been pruned for a variable X , this value can be pruned from all constraints that involve X . Higher-order consistency techniques, such as path consistency, consider k -tuples of variables at a time, not just pairs of variables that are connected by a constraint.\n",
    "\n",
    "e) "
   ]
  },
  {
   "cell_type": "markdown",
   "metadata": {},
   "source": [
    "## Como CSPs podem ser resolvidos como problemas de otimização"
   ]
  },
  {
   "cell_type": "markdown",
   "metadata": {},
   "source": [
    "Pode se utilizar o backtracking para resolver o problema, pois é um algorito sistematico/ exaustivo testando todas as atribuições\n",
    "O estado é uma atribuição de valores, atribuição parcial ou total, somando o valor de variação ate chegar a uma atribuição total\n",
    "Vizinhos: estados com mudança em uma variável\n",
    "Necessidade de função de avaliação de estados!\n",
    "F   (estados) => R\n",
    "\n",
    "Em um CSP queremos atingir um ponto onde não se viole as restrições, então caso use o numero de violações viladas como representante, então será um prblema de minimização, sendo 0 violações"
   ]
  },
  {
   "cell_type": "markdown",
   "metadata": {},
   "source": [
    "## Defina algoritmo determinístico e algoritmo estocástico"
   ]
  },
  {
   "cell_type": "markdown",
   "metadata": {},
   "source": [
    "Algoritimo determinístico é tpermitir que o algoritmo mude de ideiais e o algoritimo estocástico são usados ​​em tecnologia de inteligência artificial para resolver problemas baseados em probabilidades."
   ]
  },
  {
   "cell_type": "markdown",
   "metadata": {},
   "source": [
    "O algoritmo de subida de colina é um algoritmo de busca local que se move continuamente na direção de elevação/valor crescente para encontrar o pico da montanha ou a melhor solução para o problema. Ele termina quando atinge um valor de pico onde nenhum vizinho tem um valor mais alto. O algoritmo de subida de colinas é uma técnica que é usada para otimizar os problemas matemáticos. Um dos exemplos amplamente discutidos do algoritmo de escalada de colinas é o Problema do Caixeiro Viajante, no qual precisamos minimizar a distância percorrida pelo vendedor. Também é chamado de busca local gananciosa, pois apenas olha para o seu bom estado vizinho imediato e não além disso. Um nó de algoritmo de subida de colina tem dois componentes que são estado e valor. Hill Climbing é usado principalmente quando uma boa heurística está disponível. Neste algoritmo, não precisamos manter e manipular a árvore de busca ou o gráfico, pois ele mantém apenas um único estado atual.\n",
    "A seguir estão algumas características principais do algoritmo Hill Climbing:\n",
    "\n",
    "Variante Gerar e Testar: Hill Climbing é a variante do método Gerar e Testar. O método Gerar e Testar produz feedback que ajuda a decidir qual direção seguir no espaço de busca.\n",
    "Abordagem gananciosa: a busca do algoritmo de escalada se move na direção que otimiza o custo.\n",
    "Sem retrocesso: Não retrocede o espaço de busca, pois não lembra os estados anteriores.\n",
    "\n",
    "Recozimento simulado (ou Simulated Annealing) é uma meta-heurística para otimização que consiste numa técnica de busca local probabilística, e se fundamenta numa analogia com a termodinâmica.\n",
    "Esta técnica começa sua busca a partir de uma solução inicial qualquer. O procedimento principal consiste em um loop ou laço que a cada iteração, gera aleatoriamente um único vizinho s’ da solução corrente s.\n",
    "\n",
    "A cada geração de um novo vizinho s’ de s, é testada a variação ∆ do valor da função objetivo, isto é, ∆ = f (s’) – f (s), onde temos as seguintes situações:\n",
    "\n",
    "∆ < 0: Há uma redução de energia, a qual implica que a nova solução é melhor que a anterior. O método aceita a solução e s’ passa a ser a nova solução corrente.\n",
    "∆ = 0: Caso de estabilidade, não havendo redução de energia. Na verdade, situação pouco provável de acontecer na prática. A aceitação da solução é, portanto, indiferente.\n",
    "∆ > 0: Houve um aumento do estado de energia. A aceitação desse tipo de solução é mais provável a altas temperaturas e bastante improvável a temperaturas reduzidas. Para reproduzir essas características, geralmente usa-se, para calcular a probabilidade de se aceitar a nova solução, uma função conhecida por fator de Boltzmann, que é dada por e^(-∆/T), onde T é um parâmetro do método, chamado de temperatura e que regula a probabilidade de soluções com pior custo. Por exemplo, esta poderá ser:\n",
    "Gera-se um número aleatório retirado de uma distribuição uniforme no intervalo [0, 1].\n",
    "Se este número for menor ou igual a “p”, aceita-se a solução.\n",
    "Se for maior que “p”, rejeita-se a solução.\n",
    "A temperatura T assume inicialmente um valor elevado, {\\displaystyle T0}T0. Após um número fixo de iterações (o qual representa o número de iterações para o sistema atingir o equilíbrio térmico em uma dada temperatura), a temperatura é gradativamente diminuída por uma razão de resfriamento α, tal que Tn ← α * Tn -1, sendo 0 < α < 1. Como esse procedimento se dá no início, há uma chance maior de se escapar de mínimos locais e, à medida que T se aproxima de zero, o algoritmo se comporta como o método de descida, uma vez que diminui a probabilidade de se aceitar movimentos que possa piorar (T → 0 => e-∆/T → 0).\n",
    "\n",
    "O procedimento é finalizado quando a temperatura chega a um valor próximo de zero e nenhuma solução que piore o valor da melhor solução seja mais aceita, ou seja, quando o sistema estiver estável. A solução obtida quando o sistema encontra-se nesta situação evidencia o encontro de um mínimo local.\n",
    "\n",
    "Algoritmos baseados em Simulated Annealing geralmente incluem reaquecimento seguido de um novo processo de resfriamento, utilizado quando a quantidade de movimentos consecutivamente rejeitados é alta. É também comum trabalhar nas temperaturas mais altas com taxa de resfriamento menor e aumentá-la quando a temperatura reduzir.\n",
    "\n",
    "Algoritmos Genéticos são inspirados no princípio Darwiniano da evolução das espécies e na genética [1]. São algoritmos probabilísticos que fornecem um mecanismo de busca paralela e adaptativa baseado no princípio de sobrevivência dos mais aptos e na reprodução.Os princípios da natureza nos quais os\n",
    "GAs se inspiram são simples. De acordo com a teoria de C. Darwin, o princípio de seleção privilegia os indivíduos mais aptos com maior longevidade e, portanto, com maior probabilidade de reprodução. Indivíduos com mais descendentes têm mais chance de perpetuarem seus códigos genéticos nas próximas gerações. Tais códigosgenéticos constituem a identidade de cada indivíduo e estão representados nos cromossomas.\n",
    "Estes princípios são imitados na construção de algoritmos computacionais que buscam uma melhor solução para um determinado problema, através da evolução de populações de soluções codificadas através de cromossomas artificiais.\n",
    "Em GAs um cromossoma é uma estrutura de dados que representa uma das possíveis soluções do espaço de busca do problema.\n",
    "Cromossomas são então submetidos a um processo evolucionário que envolve avaliação, seleção, recombinação sexual (crossover) e mutação. Após vários ciclos de evolução a população deverá conter indivíduos mais aptos"
   ]
  },
  {
   "cell_type": "markdown",
   "metadata": {},
   "source": [
    "## Algoritimo Hill Climber - n queens"
   ]
  },
  {
   "cell_type": "code",
   "execution_count": 2,
   "metadata": {},
   "outputs": [
    {
     "ename": "SyntaxError",
     "evalue": "invalid syntax (3081454786.py, line 4)",
     "output_type": "error",
     "traceback": [
      "\u001b[1;36m  Input \u001b[1;32mIn [2]\u001b[1;36m\u001b[0m\n\u001b[1;33m    import psyco psyco.full()\u001b[0m\n\u001b[1;37m                 ^\u001b[0m\n\u001b[1;31mSyntaxError\u001b[0m\u001b[1;31m:\u001b[0m invalid syntax\n"
     ]
    }
   ],
   "source": [
    "import random\n",
    "from array import array\n",
    "\n",
    "\n",
    "board = [[0,0,0,0,0,0,0,0],[0,0,0,0,0,0,0,0],[0,0,0,0,0,0,0,0],[0,0,0,0,0,0,0,0],[0,0,0,0,0,0,0,0],[0,0,0,0,0,0,0,0],[0,0,0,0,0,0,0,0],[0,0,0,0,0,0,0,0]]\n",
    "neighbour = [[0,0,0,0,0,0,0,0],[0,0,0,0,0,0,0,0],[0,0,0,0,0,0,0,0],[0,0,0,0,0,0,0,0],[0,0,0,0,0,0,0,0],[0,0,0,0,0,0,0,0],[0,0,0,0,0,0,0,0],[0,0,0,0,0,0,0,0]]\n",
    "queens = [0,0,0,0,0,0,0,0]\n",
    "\n",
    "\n",
    "def collision_count(column,row):\n",
    "    coll = 0\n",
    "   \n",
    "    for j in range(8):\n",
    "        if j == row:\n",
    "            continue\n",
    "        if board[column][j] == 1 :\n",
    "            coll += 1\n",
    "    \n",
    "    while(column < 7 and row < 7):\n",
    "        row += 1\n",
    "        column +=1\n",
    "        if board[column][row] == 1:\n",
    "            coll += 1\n",
    "  \n",
    "    while(column > 0 and row > 0):\n",
    "        row -= 1\n",
    "        column -=1\n",
    "        if board[column][row] == 1:\n",
    "            coll += 1\n",
    "    \n",
    "    while(column > 0 and row < 7):\n",
    "        row += 1\n",
    "        column -=1\n",
    "        if board[column][row] == 1:\n",
    "            coll += 1\n",
    " \n",
    "    while(column < 7 and row > 0):\n",
    "        row -= 1\n",
    "        column +=1\n",
    "        if board[column][row] == 1:\n",
    "            coll += 1\n",
    "                     \n",
    "    return coll     \n",
    "\n",
    "def totalcoll():\n",
    "    totcoll = 0\n",
    "    for i in range(8):\n",
    "       totcoll += collision_count(i,queens[i])\n",
    "    return totcoll\n",
    "            \n",
    "while True:\n",
    " \n",
    " for i in range(8):\n",
    "     queens[i] = random.randrange(0,8)\n",
    "     board[i][queens[i]] = 1\n",
    "\n",
    "\n",
    "\n",
    " totalcollision =  totalcoll()\n",
    "    \n",
    " while True:\n",
    "\n",
    "  for i in range(8):\n",
    "     \n",
    "     oldqueen = queens[i]\n",
    "\n",
    "     \n",
    "     for j in range(8):\n",
    "       \n",
    "         queens[i] = j\n",
    "       \n",
    "         neighbour[i][j] = totalcoll()\n",
    "     \n",
    "     queens[i] = oldqueen\n",
    "\n",
    " \n",
    "  min = neighbour[0][0]\n",
    "  minqueencol = 0\n",
    "  minqueenrow = 0\n",
    "  for i in range(8):\n",
    "      for j in range(8):\n",
    "          if(neighbour[i][j]<min):\n",
    "              min = neighbour[i][j]\n",
    "              minqueenrow = j\n",
    "              minqueencol = i\n",
    "\n",
    "  if min<totalcollision:\n",
    "     totalcollision = min\n",
    "     queens[minqueencol] = minqueenrow\n",
    "    \n",
    "\n",
    "  else:\n",
    "      break\n",
    "\n",
    " if totalcollision == 0:\n",
    "        break\n",
    "\n",
    "print(\"a\")\n",
    "\n",
    "for i in range(8):\n",
    "    for j in range(8):\n",
    "        print(board[i][j])"
   ]
  }
 ],
 "metadata": {
  "interpreter": {
   "hash": "5dcb956a9836ff1b933445fcf1feb8fe66535bc0a9a9152eaf00f8fb8a7284e4"
  },
  "kernelspec": {
   "display_name": "Python 3.10.3 64-bit",
   "language": "python",
   "name": "python3"
  },
  "language_info": {
   "codemirror_mode": {
    "name": "ipython",
    "version": 3
   },
   "file_extension": ".py",
   "mimetype": "text/x-python",
   "name": "python",
   "nbconvert_exporter": "python",
   "pygments_lexer": "ipython3",
   "version": "3.10.3"
  },
  "orig_nbformat": 4
 },
 "nbformat": 4,
 "nbformat_minor": 2
}
