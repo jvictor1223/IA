{
 "cells": [
  {
   "cell_type": "markdown",
   "metadata": {},
   "source": [
    "## Codigo de Maze"
   ]
  },
  {
   "cell_type": "markdown",
   "metadata": {},
   "source": [
    "## Rodar a simulação"
   ]
  },
  {
   "cell_type": "code",
   "execution_count": 1,
   "metadata": {},
   "outputs": [],
   "source": [
    "from pyamaze import maze,agent\n",
    "m=maze(20,20)\n",
    "m.CreateMaze(loopPercent=50)\n",
    "a=agent(m,filled=True,footprints=True)\n",
    "m.tracePath({a:m.path})\n",
    "m.run()"
   ]
  },
  {
   "cell_type": "markdown",
   "metadata": {},
   "source": [
    "## Profundidade"
   ]
  },
  {
   "cell_type": "code",
   "execution_count": 4,
   "metadata": {},
   "outputs": [],
   "source": [
    "from pyamaze import maze,agent,textLabel,COLOR\n",
    "\n",
    "def DFS(m,start=None): #profundidade\n",
    "    if start is None:\n",
    "        start=(m.rows,m.cols)\n",
    "    explored=[start]\n",
    "    frontier=[start]\n",
    "    dfsPath={}\n",
    "    dSeacrh=[]\n",
    "    while len(frontier)>0:\n",
    "        currCell=frontier.pop()\n",
    "        dSeacrh.append(currCell)\n",
    "        if currCell==m._goal:\n",
    "            break\n",
    "        poss=0\n",
    "        for d in 'ESNW':\n",
    "            if m.maze_map[currCell][d]==True:\n",
    "                if d =='E':\n",
    "                    child=(currCell[0],currCell[1]+1)\n",
    "                if d =='W':\n",
    "                    child=(currCell[0],currCell[1]-1)\n",
    "                if d =='N':\n",
    "                    child=(currCell[0]-1,currCell[1])\n",
    "                if d =='S':\n",
    "                    child=(currCell[0]+1,currCell[1])\n",
    "                if child in explored:\n",
    "                    continue\n",
    "                poss+=1\n",
    "                explored.append(child)\n",
    "                frontier.append(child)\n",
    "                dfsPath[child]=currCell\n",
    "        if poss>1:\n",
    "            m.markCells.append(currCell)\n",
    "    fwdPath={}\n",
    "    cell=m._goal\n",
    "    while cell!=start:\n",
    "        fwdPath[dfsPath[cell]]=cell\n",
    "        cell=dfsPath[cell]\n",
    "    return dSeacrh,dfsPath,fwdPath\n",
    "\n",
    "if __name__=='__main__':\n",
    "    m=maze(5,5)\n",
    "    m.CreateMaze(2,4) # (2,4) is Goal Cell, Change that to any other valid cell\n",
    "\n",
    "    dSeacrh,dfsPath,fwdPath=DFS(m,(5,1)) # (5,1) is Start Cell, Change that to any other valid cell\n",
    "\n",
    "    a=agent(m,5,1,goal=(2,4),footprints=True,shape='square',color=COLOR.blue)\n",
    "    b=agent(m,2,4,goal=(5,1),footprints=True,filled=True)\n",
    "    c=agent(m,5,1,footprints=True,color=COLOR.yellow)\n",
    "    m.tracePath({a:dSeacrh},showMarked=True)\n",
    "    m.tracePath({b:dfsPath})\n",
    "    m.tracePath({c:fwdPath})\n",
    "    m.run()\n",
    "\n"
   ]
  },
  {
   "cell_type": "markdown",
   "metadata": {},
   "source": [
    "## Largura"
   ]
  },
  {
   "cell_type": "code",
   "execution_count": 2,
   "metadata": {},
   "outputs": [],
   "source": [
    "from pyamaze import maze,agent,COLOR,textLabel\n",
    "def BFS(m): #largura\n",
    "    start=(m.rows,m.cols)\n",
    "    frontier=[start]\n",
    "    explored=[start]\n",
    "    bfsPath={}\n",
    "    while len(frontier)>0:\n",
    "        currCell=frontier.pop(0)\n",
    "        if currCell==(1,1):\n",
    "            break\n",
    "        for d in 'ESNW':\n",
    "            if m.maze_map[currCell][d]==True:\n",
    "                if d=='E':\n",
    "                    childCell=(currCell[0],currCell[1]+1)\n",
    "                elif d=='W':\n",
    "                    childCell=(currCell[0],currCell[1]-1)\n",
    "                elif d=='N':\n",
    "                    childCell=(currCell[0]-1,currCell[1])\n",
    "                elif d=='S':\n",
    "                    childCell=(currCell[0]+1,currCell[1])\n",
    "                if childCell in explored:\n",
    "                    continue\n",
    "                frontier.append(childCell)\n",
    "                explored.append(childCell)\n",
    "                bfsPath[childCell]=currCell\n",
    "    fwdPath={}\n",
    "    cell=(1,1)\n",
    "    while cell!=start:\n",
    "        fwdPath[bfsPath[cell]]=cell\n",
    "        cell=bfsPath[cell]\n",
    "    return fwdPath\n",
    "\n",
    "if __name__=='__main__':\n",
    "    m=maze(5,7)\n",
    "    m.CreateMaze(loopPercent=40)\n",
    "    path=BFS(m)\n",
    "\n",
    "    a=agent(m,footprints=True,filled=True)\n",
    "    m.tracePath({a:path})\n",
    "    l=textLabel(m,'Length of Shortest Path',len(path)+1)\n",
    "\n",
    "    m.run()"
   ]
  },
  {
   "cell_type": "markdown",
   "metadata": {},
   "source": [
    "## Algoritimo Goluso\n"
   ]
  },
  {
   "cell_type": "code",
   "execution_count": null,
   "metadata": {},
   "outputs": [],
   "source": []
  },
  {
   "cell_type": "markdown",
   "metadata": {},
   "source": [
    "## Algoritimo estrela A*"
   ]
  },
  {
   "cell_type": "code",
   "execution_count": null,
   "metadata": {},
   "outputs": [],
   "source": [
    "from pyamaze import maze,agent,textLabel\n",
    "from queue import PriorityQueue\n",
    "def h(cell1,cell2):\n",
    "    x1,y1=cell1\n",
    "    x2,y2=cell2\n",
    "\n",
    "    return abs(x1-x2) + abs(y1-y2)\n",
    "def aStar(m):\n",
    "    start=(m.rows,m.cols)\n",
    "    g_score={cell:float('inf') for cell in m.grid}\n",
    "    g_score[start]=0\n",
    "    f_score={cell:float('inf') for cell in m.grid}\n",
    "    f_score[start]=h(start,(1,1))\n",
    "\n",
    "    open=PriorityQueue()\n",
    "    open.put((h(start,(1,1)),h(start,(1,1)),start))\n",
    "    aPath={}\n",
    "    while not open.empty():\n",
    "        currCell=open.get()[2]\n",
    "        if currCell==(1,1):\n",
    "            break\n",
    "        for d in 'ESNW':\n",
    "            if m.maze_map[currCell][d]==True:\n",
    "                if d=='E':\n",
    "                    childCell=(currCell[0],currCell[1]+1)\n",
    "                if d=='W':\n",
    "                    childCell=(currCell[0],currCell[1]-1)\n",
    "                if d=='N':\n",
    "                    childCell=(currCell[0]-1,currCell[1])\n",
    "                if d=='S':\n",
    "                    childCell=(currCell[0]+1,currCell[1])\n",
    "\n",
    "                temp_g_score=g_score[currCell]+1\n",
    "                temp_f_score=temp_g_score+h(childCell,(1,1))\n",
    "\n",
    "                if temp_f_score < f_score[childCell]:\n",
    "                    g_score[childCell]= temp_g_score\n",
    "                    f_score[childCell]= temp_f_score\n",
    "                    open.put((temp_f_score,h(childCell,(1,1)),childCell))\n",
    "                    aPath[childCell]=currCell\n",
    "    fwdPath={}\n",
    "    cell=(1,1)\n",
    "    while cell!=start:\n",
    "        fwdPath[aPath[cell]]=cell\n",
    "        cell=aPath[cell]\n",
    "    return fwdPath\n",
    "\n",
    "if __name__=='__main__':\n",
    "    m=maze(5,5)\n",
    "    m.CreateMaze()\n",
    "    path=aStar(m)\n",
    "\n",
    "    a=agent(m,footprints=True)\n",
    "    m.tracePath({a:path})\n",
    "    l=textLabel(m,'A Star Path Length',len(path)+1)\n",
    "\n",
    "    m.run()"
   ]
  }
 ],
 "metadata": {
  "interpreter": {
   "hash": "5dcb956a9836ff1b933445fcf1feb8fe66535bc0a9a9152eaf00f8fb8a7284e4"
  },
  "kernelspec": {
   "display_name": "Python 3.10.3 64-bit",
   "language": "python",
   "name": "python3"
  },
  "language_info": {
   "codemirror_mode": {
    "name": "ipython",
    "version": 3
   },
   "file_extension": ".py",
   "mimetype": "text/x-python",
   "name": "python",
   "nbconvert_exporter": "python",
   "pygments_lexer": "ipython3",
   "version": "3.10.3"
  },
  "orig_nbformat": 4
 },
 "nbformat": 4,
 "nbformat_minor": 2
}
