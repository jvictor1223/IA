{
 "cells": [
  {
   "cell_type": "markdown",
   "metadata": {},
   "source": [
    "## 2 Questões Teóricas\n"
   ]
  },
  {
   "cell_type": "markdown",
   "metadata": {},
   "source": [
    "## 1. Considere a seguinte base de conhecimento (KB):\n",
    "\n",
    "a ← b ∧ c.\n",
    "\n",
    "b ← e.\n",
    "\n",
    "b ← d.\n",
    "\n",
    "c.\n",
    "\n",
    "d ← h.\n",
    "\n",
    "e.\n",
    "\n",
    "g ← a ∧ b ∧ e.\n",
    "\n",
    "f ← h ∧ b"
   ]
  },
  {
   "cell_type": "markdown",
   "metadata": {},
   "source": [
    "# (a) Apresente um modelo da base de conhecimento apresentada.\n",
    "\n",
    "Interpletação: \n",
    "C = True\n",
    "\n",
    "E = True\n",
    "\n",
    "B = True\n",
    "\n",
    "A = True\n",
    "\n",
    "H = False\n",
    "\n",
    "D = True\n",
    "\n",
    "G = True\n",
    "\n",
    "F = False\n",
    "\n",
    "\n",
    "Modelo\n",
    "A = T\n",
    "\n",
    "B = T\n",
    "\n",
    "C = T\n",
    "\n",
    "D = T \n",
    "\n",
    "E = T\n",
    "\n",
    "F = F\n",
    "\n",
    "H = F \n",
    "\n"
   ]
  },
  {
   "cell_type": "markdown",
   "metadata": {},
   "source": [
    "# Botton-up\n",
    "\n",
    "c = {c , e}\n",
    "\n",
    "c = {c, e , b}\n",
    "\n",
    "c = {c, a , e , b}\n",
    "\n",
    "c = {a, b, c , e , g}"
   ]
  },
  {
   "cell_type": "markdown",
   "metadata": {},
   "source": [
    "# Top-down\n",
    "Prove g\n",
    "\n",
    "prove a^b^e\n",
    "\n",
    "e é uma verdade"
   ]
  },
  {
   "cell_type": "markdown",
   "metadata": {},
   "source": []
  },
  {
   "cell_type": "markdown",
   "metadata": {},
   "source": []
  },
  {
   "cell_type": "markdown",
   "metadata": {},
   "source": []
  },
  {
   "cell_type": "markdown",
   "metadata": {},
   "source": []
  },
  {
   "cell_type": "markdown",
   "metadata": {},
   "source": []
  },
  {
   "cell_type": "markdown",
   "metadata": {},
   "source": []
  },
  {
   "cell_type": "markdown",
   "metadata": {},
   "source": []
  }
 ],
 "metadata": {
  "interpreter": {
   "hash": "5dcb956a9836ff1b933445fcf1feb8fe66535bc0a9a9152eaf00f8fb8a7284e4"
  },
  "kernelspec": {
   "display_name": "Python 3.10.3 64-bit",
   "language": "python",
   "name": "python3"
  },
  "language_info": {
   "name": "python",
   "version": "3.10.3"
  },
  "orig_nbformat": 4
 },
 "nbformat": 4,
 "nbformat_minor": 2
}
