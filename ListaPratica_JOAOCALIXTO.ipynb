{
 "cells": [
  {
   "cell_type": "markdown",
   "metadata": {},
   "source": [
    "# Atividades práticas"
   ]
  },
  {
   "cell_type": "markdown",
   "metadata": {},
   "source": [
    "## Questao 1"
   ]
  },
  {
   "cell_type": "code",
   "execution_count": 9,
   "metadata": {},
   "outputs": [
    {
     "data": {
      "text/plain": [
       "'elefante incomoda '"
      ]
     },
     "execution_count": 9,
     "metadata": {},
     "output_type": "execute_result"
    }
   ],
   "source": [
    "#exercicio string\n",
    "frase = \"um elefante incomoda muita gente\"\n",
    "frase[3:21]"
   ]
  },
  {
   "cell_type": "code",
   "execution_count": 10,
   "metadata": {},
   "outputs": [
    {
     "name": "stdout",
     "output_type": "stream",
     "text": [
      "\n"
     ]
    }
   ],
   "source": [
    "#2 \n",
    "frase = input(\"Digite a frase\")\n",
    "maiu = frase.upper()\n",
    "final = maiu.replace(' ', '')\n",
    "print(final)\n"
   ]
  },
  {
   "cell_type": "code",
   "execution_count": 13,
   "metadata": {},
   "outputs": [
    {
     "data": {
      "text/plain": [
       "3.2222222222222223"
      ]
     },
     "execution_count": 13,
     "metadata": {},
     "output_type": "execute_result"
    }
   ],
   "source": [
    "x = int(input(\"Valor de X\"))\n",
    "y = int(input(\"Valor de Y, sendo diferente de X\"))\n",
    "if x == y:\n",
    "    y = int(input(\"Valor de Y, sendo diferente de X\"))\n",
    "while y == x:\n",
    "    y = int(input(\"O valor de x é %d, tente outro valor para Y\" % (x)))\n",
    "z = float\n",
    "z = (x**2+y**2)/(x-y)**2\n",
    "z"
   ]
  },
  {
   "cell_type": "code",
   "execution_count": null,
   "metadata": {},
   "outputs": [
    {
     "data": {
      "text/plain": [
       "1350.0"
      ]
     },
     "execution_count": 38,
     "metadata": {},
     "output_type": "execute_result"
    }
   ],
   "source": [
    "x = float(input(\"Valor de salario\"))\n",
    "\n",
    "final = x*1.35\n",
    "final"
   ]
  },
  {
   "cell_type": "code",
   "execution_count": null,
   "metadata": {},
   "outputs": [
    {
     "name": "stdout",
     "output_type": "stream",
     "text": [
      "7   9   1   31\n",
      "\n",
      "\n",
      "[1, 2, 3, 4, 5, 7, 9]\n",
      "\n",
      "\n",
      "[9, 7, 5, 4, 3, 2, 1]\n"
     ]
    }
   ],
   "source": [
    "#Listas\n",
    "L = [5,7,2,9,4,1,3]\n",
    "tam = len(L)\n",
    "maior = max(L)\n",
    "meno = min(L)\n",
    "soma = sum(L)\n",
    "\n",
    "\n",
    "\n",
    "\n",
    "\n",
    "\n",
    "\n",
    "print(tam,\" \",maior,\" \",meno,\" \",soma)\n",
    "\n",
    "print(\"\\n\")\n",
    "\n",
    "\n",
    "print(sorted(L))\n",
    "\n",
    "print(\"\\n\")\n",
    "\n",
    "L.sort(reverse = True)\n",
    "\n",
    "print(L)"
   ]
  },
  {
   "cell_type": "code",
   "execution_count": null,
   "metadata": {},
   "outputs": [
    {
     "name": "stdout",
     "output_type": "stream",
     "text": [
      "[3, 6, 9, 12, 15, 18, 21, 24, 27, 30, 33, 36, 39, 42, 45, 48]\n"
     ]
    }
   ],
   "source": [
    "nums = [i for i in range(1,50)]\n",
    "\n",
    "numstres = [i for i in range(1,50) if i % 3 == 0]\n",
    "print(numstres)"
   ]
  },
  {
   "cell_type": "code",
   "execution_count": null,
   "metadata": {},
   "outputs": [
    {
     "name": "stdout",
     "output_type": "stream",
     "text": [
      "{'Salgado': 4.5, 'Lanche': 6.5, 'Suco': 3.0, 'Refrigerante': 3.5, 'Doce': 1.0}\n"
     ]
    }
   ],
   "source": [
    "D={\"Salgado\": 4.50, \"Lanche\":6.50,\"Suco\":3.00,\"Refrigerante\":3.50, \"Doce\":1.00}\n",
    "print(D)\n"
   ]
  },
  {
   "cell_type": "code",
   "execution_count": null,
   "metadata": {},
   "outputs": [
    {
     "name": "stdout",
     "output_type": "stream",
     "text": [
      "{'Jorge': 5.0, 'Sergio': 7.0, 'Pablo': 6.7, 'Ademir': 10.0, 'Uanderson': 2.0}\n",
      "A media dos alunos é de:  6.14\n"
     ]
    }
   ],
   "source": [
    "Nomes = {\"Jorge\":5.00, \"Sergio\": 7.00, \"Pablo\": 6.7, \"Ademir\": 10.00, \"Uanderson\": 2.00}\n",
    "print(Nomes)\n",
    "nume = Nomes.values()\n",
    "Numerador = sum(nume)\n",
    "Divisor = len(Nomes)\n",
    "Final = Numerador/Divisor\n",
    "print(\"A media dos alunos é de: \",Final)"
   ]
  },
  {
   "cell_type": "code",
   "execution_count": null,
   "metadata": {},
   "outputs": [
    {
     "name": "stdout",
     "output_type": "stream",
     "text": [
      "7.5  \n",
      "aprovado\n"
     ]
    }
   ],
   "source": [
    "nota1 = float(input(\"Digite nota 1\"))\n",
    "nota2 = float(input(\"Digite nota 2\"))\n",
    "notamed = (nota1+nota2)/2\n",
    "print(notamed, \" \")\n",
    "if notamed >= 6:\n",
    "\n",
    "    print(\"aprovado\")\n",
    "else:\n",
    "\n",
    "    print(\"reprovado\")"
   ]
  },
  {
   "cell_type": "code",
   "execution_count": null,
   "metadata": {},
   "outputs": [
    {
     "name": "stdout",
     "output_type": "stream",
     "text": [
      "3.5  \n",
      "reprovado\n"
     ]
    }
   ],
   "source": [
    "nota1 = float(input(\"Digite nota 1\"))\n",
    "nota2 = float(input(\"Digite nota 2\"))\n",
    "notamed = (nota1+nota2)/2\n",
    "print(notamed, \" \")\n",
    "if notamed >= 6:\n",
    "    print(\"aprovado\")\n",
    "elif notamed >= 4 and notamed < 6:\n",
    "    print(\"exame\")\n",
    "else:\n",
    "    print(\"reprovado\")"
   ]
  },
  {
   "cell_type": "code",
   "execution_count": null,
   "metadata": {},
   "outputs": [
    {
     "name": "stdout",
     "output_type": "stream",
     "text": [
      "Soma =  18315\n"
     ]
    }
   ],
   "source": [
    "S=0\n",
    "for x in range(3,333,3):\n",
    " S = S+x\n",
    "print('Soma = ',S)\n",
    "\n",
    "\n"
   ]
  },
  {
   "cell_type": "code",
   "execution_count": null,
   "metadata": {},
   "outputs": [
    {
     "name": "stdout",
     "output_type": "stream",
     "text": [
      "Soma =  1.0\n"
     ]
    }
   ],
   "source": [
    "contador = 0\n",
    "somador = 0\n",
    "while contador < 10:\n",
    " contador = contador + 1\n",
    " valor = float(input('Digite o '+str(contador)+'º valor: '))\n",
    " somador = somador + valor\n",
    "print('Soma = ', somador/contador)\n"
   ]
  },
  {
   "cell_type": "code",
   "execution_count": null,
   "metadata": {},
   "outputs": [
    {
     "name": "stdout",
     "output_type": "stream",
     "text": [
      "5 x 1 = 5\n",
      "5 x 2 = 10\n",
      "5 x 3 = 15\n",
      "5 x 4 = 20\n",
      "5 x 5 = 25\n",
      "5 x 6 = 30\n",
      "5 x 7 = 35\n",
      "5 x 8 = 40\n",
      "5 x 9 = 45\n",
      "5 x 10 = 50\n"
     ]
    }
   ],
   "source": [
    "tabuada=int(input(\"Tabuada do numero: \"))\n",
    "\n",
    "for count in range(10):\n",
    "    print(\"%d x %d = %d\" % (tabuada, count+1, tabuada*(count+1)) )\n"
   ]
  },
  {
   "cell_type": "code",
   "execution_count": null,
   "metadata": {},
   "outputs": [
    {
     "data": {
      "text/plain": [
       "<function __main__.linha(N)>"
      ]
     },
     "execution_count": 102,
     "metadata": {},
     "output_type": "execute_result"
    }
   ],
   "source": [
    "#Funções\n",
    "def linha(N):\n",
    "        for i in range(N):\n",
    "                print(end='_')\n",
    "        print(\" \")\n",
    "linha"
   ]
  },
  {
   "cell_type": "code",
   "execution_count": 1,
   "metadata": {},
   "outputs": [
    {
     "data": {
      "text/plain": [
       "<function __main__.imprime_l(L)>"
      ]
     },
     "execution_count": 1,
     "metadata": {},
     "output_type": "execute_result"
    }
   ],
   "source": [
    "def imprime_l(L):\n",
    "    contador = 0\n",
    "    for valor in L:\n",
    "            contador = contador +1\n",
    "            print(contador, ')', valor)\n",
    "imprime_l"
   ]
  },
  {
   "cell_type": "code",
   "execution_count": null,
   "metadata": {},
   "outputs": [
    {
     "data": {
      "text/plain": [
       "<function __main__.media_l(L)>"
      ]
     },
     "execution_count": 104,
     "metadata": {},
     "output_type": "execute_result"
    }
   ],
   "source": [
    "def media_l(L):\n",
    "    somador = 0\n",
    "    for valor in L:\n",
    "        somador = somador + valor\n",
    "        return somador/len(L)\n",
    "\n",
    "media_l"
   ]
  },
  {
   "cell_type": "markdown",
   "metadata": {},
   "source": [
    "## QUESTÃO 2"
   ]
  },
  {
   "cell_type": "code",
   "execution_count": null,
   "metadata": {},
   "outputs": [
    {
     "name": "stdout",
     "output_type": "stream",
     "text": [
      "[8, 16, 24, 32, 40, 48, 56, 64, 72, 80, 88, 96, 104, 112, 120, 128, 136, 144, 152, 160, 168, 176, 184, 192, 200, 208, 216, 224, 232, 240, 248, 256, 264, 272, 280, 288, 296, 304, 312, 320, 328, 336, 344, 352, 360, 368, 376, 384, 392, 400, 408, 416, 424, 432, 440, 448, 456, 464, 472, 480, 488, 496, 504, 512, 520, 528, 536, 544, 552, 560, 568, 576, 584, 592, 600, 608, 616, 624, 632, 640, 648, 656, 664, 672, 680, 688, 696, 704, 712, 720, 728, 736, 744, 752, 760, 768, 776, 784, 792, 800, 808, 816, 824, 832, 840, 848, 856, 864, 872, 880, 888, 896, 904, 912, 920, 928, 936, 944, 952, 960, 968, 976, 984, 992, 1000]\n"
     ]
    }
   ],
   "source": [
    "#questão 2a\n",
    "nums = [i for i in range(1,1001)]\n",
    "sentence = \"Practice Problems to Drill List Comprehension in Your Head.\"\n",
    "\n",
    "numsoito = [i for i in range(1,1001) if i % 8 == 0]\n",
    "print(numsoito)"
   ]
  },
  {
   "cell_type": "code",
   "execution_count": null,
   "metadata": {},
   "outputs": [
    {
     "data": {
      "text/plain": [
       "[6,\n",
       " 16,\n",
       " 26,\n",
       " 36,\n",
       " 46,\n",
       " 56,\n",
       " 60,\n",
       " 61,\n",
       " 62,\n",
       " 63,\n",
       " 64,\n",
       " 65,\n",
       " 66,\n",
       " 67,\n",
       " 68,\n",
       " 69,\n",
       " 76,\n",
       " 86,\n",
       " 96,\n",
       " 106,\n",
       " 116,\n",
       " 126,\n",
       " 136,\n",
       " 146,\n",
       " 156,\n",
       " 160,\n",
       " 161,\n",
       " 162,\n",
       " 163,\n",
       " 164,\n",
       " 165,\n",
       " 166,\n",
       " 167,\n",
       " 168,\n",
       " 169,\n",
       " 176,\n",
       " 186,\n",
       " 196,\n",
       " 206,\n",
       " 216,\n",
       " 226,\n",
       " 236,\n",
       " 246,\n",
       " 256,\n",
       " 260,\n",
       " 261,\n",
       " 262,\n",
       " 263,\n",
       " 264,\n",
       " 265,\n",
       " 266,\n",
       " 267,\n",
       " 268,\n",
       " 269,\n",
       " 276,\n",
       " 286,\n",
       " 296,\n",
       " 306,\n",
       " 316,\n",
       " 326,\n",
       " 336,\n",
       " 346,\n",
       " 356,\n",
       " 360,\n",
       " 361,\n",
       " 362,\n",
       " 363,\n",
       " 364,\n",
       " 365,\n",
       " 366,\n",
       " 367,\n",
       " 368,\n",
       " 369,\n",
       " 376,\n",
       " 386,\n",
       " 396,\n",
       " 406,\n",
       " 416,\n",
       " 426,\n",
       " 436,\n",
       " 446,\n",
       " 456,\n",
       " 460,\n",
       " 461,\n",
       " 462,\n",
       " 463,\n",
       " 464,\n",
       " 465,\n",
       " 466,\n",
       " 467,\n",
       " 468,\n",
       " 469,\n",
       " 476,\n",
       " 486,\n",
       " 496,\n",
       " 506,\n",
       " 516,\n",
       " 526,\n",
       " 536,\n",
       " 546,\n",
       " 556,\n",
       " 560,\n",
       " 561,\n",
       " 562,\n",
       " 563,\n",
       " 564,\n",
       " 565,\n",
       " 566,\n",
       " 567,\n",
       " 568,\n",
       " 569,\n",
       " 576,\n",
       " 586,\n",
       " 596,\n",
       " 600,\n",
       " 601,\n",
       " 602,\n",
       " 603,\n",
       " 604,\n",
       " 605,\n",
       " 606,\n",
       " 607,\n",
       " 608,\n",
       " 609,\n",
       " 610,\n",
       " 611,\n",
       " 612,\n",
       " 613,\n",
       " 614,\n",
       " 615,\n",
       " 616,\n",
       " 617,\n",
       " 618,\n",
       " 619,\n",
       " 620,\n",
       " 621,\n",
       " 622,\n",
       " 623,\n",
       " 624,\n",
       " 625,\n",
       " 626,\n",
       " 627,\n",
       " 628,\n",
       " 629,\n",
       " 630,\n",
       " 631,\n",
       " 632,\n",
       " 633,\n",
       " 634,\n",
       " 635,\n",
       " 636,\n",
       " 637,\n",
       " 638,\n",
       " 639,\n",
       " 640,\n",
       " 641,\n",
       " 642,\n",
       " 643,\n",
       " 644,\n",
       " 645,\n",
       " 646,\n",
       " 647,\n",
       " 648,\n",
       " 649,\n",
       " 650,\n",
       " 651,\n",
       " 652,\n",
       " 653,\n",
       " 654,\n",
       " 655,\n",
       " 656,\n",
       " 657,\n",
       " 658,\n",
       " 659,\n",
       " 660,\n",
       " 661,\n",
       " 662,\n",
       " 663,\n",
       " 664,\n",
       " 665,\n",
       " 666,\n",
       " 667,\n",
       " 668,\n",
       " 669,\n",
       " 670,\n",
       " 671,\n",
       " 672,\n",
       " 673,\n",
       " 674,\n",
       " 675,\n",
       " 676,\n",
       " 677,\n",
       " 678,\n",
       " 679,\n",
       " 680,\n",
       " 681,\n",
       " 682,\n",
       " 683,\n",
       " 684,\n",
       " 685,\n",
       " 686,\n",
       " 687,\n",
       " 688,\n",
       " 689,\n",
       " 690,\n",
       " 691,\n",
       " 692,\n",
       " 693,\n",
       " 694,\n",
       " 695,\n",
       " 696,\n",
       " 697,\n",
       " 698,\n",
       " 699,\n",
       " 706,\n",
       " 716,\n",
       " 726,\n",
       " 736,\n",
       " 746,\n",
       " 756,\n",
       " 760,\n",
       " 761,\n",
       " 762,\n",
       " 763,\n",
       " 764,\n",
       " 765,\n",
       " 766,\n",
       " 767,\n",
       " 768,\n",
       " 769,\n",
       " 776,\n",
       " 786,\n",
       " 796,\n",
       " 806,\n",
       " 816,\n",
       " 826,\n",
       " 836,\n",
       " 846,\n",
       " 856,\n",
       " 860,\n",
       " 861,\n",
       " 862,\n",
       " 863,\n",
       " 864,\n",
       " 865,\n",
       " 866,\n",
       " 867,\n",
       " 868,\n",
       " 869,\n",
       " 876,\n",
       " 886,\n",
       " 896,\n",
       " 906,\n",
       " 916,\n",
       " 926,\n",
       " 936,\n",
       " 946,\n",
       " 956,\n",
       " 960,\n",
       " 961,\n",
       " 962,\n",
       " 963,\n",
       " 964,\n",
       " 965,\n",
       " 966,\n",
       " 967,\n",
       " 968,\n",
       " 969,\n",
       " 976,\n",
       " 986,\n",
       " 996]"
      ]
     },
     "execution_count": 3,
     "metadata": {},
     "output_type": "execute_result"
    }
   ],
   "source": [
    "#questão 2b\n",
    "nums = [i for i in range(1,1001)]\n",
    "sentence = \"Practice Problems to Drill List Comprehension in Your Head.\"\n",
    "\n",
    "[lista6 for lista6 in range(1, 1001) if '6' in str(lista6)]\n"
   ]
  },
  {
   "cell_type": "code",
   "execution_count": null,
   "metadata": {},
   "outputs": [
    {
     "name": "stdout",
     "output_type": "stream",
     "text": [
      "8\n"
     ]
    }
   ],
   "source": [
    "#Questao 2c\n",
    "nums = [i for i in range(1,1001)]\n",
    "sentence = \"Practice Problems to Drill List Comprehension in Your Head.\"\n",
    "espacos = [s for s in sentence if s == ' ']\n",
    "print(len(espacos))"
   ]
  },
  {
   "cell_type": "code",
   "execution_count": null,
   "metadata": {},
   "outputs": [
    {
     "name": "stdout",
     "output_type": "stream",
     "text": [
      "Prctc Prblms t Drll Lst Cmprhnsn n Yr Hd.\n"
     ]
    }
   ],
   "source": [
    "#Questao 2d\n",
    "nums = [i for i in range(1,1001)]\n",
    "sentence = \"Practice Problems to Drill List Comprehension in Your Head.\"\n",
    "\n",
    "if sentence == 'x':\n",
    "    exit();\n",
    "else:\n",
    "    newstr = sentence;\n",
    "    \n",
    "    vowels = ('a', 'e', 'i', 'o', 'u');\n",
    "    for x in sentence.lower():\n",
    "        if x in vowels:\n",
    "            newstr = newstr.replace(x,\"\");\n",
    "    \n",
    "    print(newstr);\n"
   ]
  },
  {
   "cell_type": "code",
   "execution_count": null,
   "metadata": {},
   "outputs": [
    {
     "name": "stdout",
     "output_type": "stream",
     "text": [
      "['to', 'List', 'in', 'Your']\n"
     ]
    }
   ],
   "source": [
    "#Questao 2e\n",
    "nums = [i for i in range(1,1001)]\n",
    "sentence = \"Practice Problems to Drill List Comprehension in Your Head.\"\n",
    "\n",
    "examine = sentence.split()\n",
    "result = [word for word in examine if len(word) < 5]\n",
    "print(result)"
   ]
  },
  {
   "cell_type": "markdown",
   "metadata": {},
   "source": [
    "QUESTAO 3"
   ]
  },
  {
   "cell_type": "code",
   "execution_count": null,
   "metadata": {},
   "outputs": [
    {
     "name": "stdout",
     "output_type": "stream",
     "text": [
      "Regis\n",
      "Fabio\n"
     ]
    }
   ],
   "source": [
    "#Questao 3a\n",
    "\n",
    "class Pessoa:\n",
    "\n",
    "    def __init__(self, nome):\n",
    "        self.nome = nome\n",
    "\n",
    "    def __str__(self):\n",
    "        return self.nome\n",
    "\n",
    "\n",
    "regis = Pessoa('Regis')\n",
    "print(regis)\n",
    "fabio = Pessoa('Fabio')\n",
    "print(fabio)"
   ]
  },
  {
   "cell_type": "code",
   "execution_count": null,
   "metadata": {},
   "outputs": [],
   "source": [
    "#Questao 3b\n",
    "\n",
    "class CalculadoraSimples:\n",
    "\n",
    "    def __init__(self, a, b):\n",
    "        self.a = a\n",
    "        self.b = b\n",
    "\n",
    "    def soma(self):\n",
    "        return self.a + self.b\n",
    "\n",
    "    def subtrai(self):\n",
    "        return self.a - self.b\n",
    "\n",
    "    def multiplica(self):\n",
    "        return self.a * self.b\n",
    "\n",
    "    def divide(self):\n",
    "        return self.a / self.b"
   ]
  },
  {
   "cell_type": "code",
   "execution_count": null,
   "metadata": {},
   "outputs": [],
   "source": [
    "#Questao 3c\n",
    "\n",
    "class Calculadora:\n",
    "\n",
    "    def soma(self, a, b):\n",
    "        return a + b\n",
    "\n",
    "    def subtrai(self, a, b):\n",
    "        return a - b\n",
    "\n",
    "    def multiplica(self, a, b):\n",
    "        return a * b\n",
    "\n",
    "    def divide(self, a, b):\n",
    "        return a / b"
   ]
  },
  {
   "cell_type": "code",
   "execution_count": null,
   "metadata": {},
   "outputs": [
    {
     "name": "stdout",
     "output_type": "stream",
     "text": [
      "[<User: 1 - Regis - 35>\n",
      ", <User: 2 - Fabio - 20>\n",
      "]\n"
     ]
    }
   ],
   "source": [
    "#Questao 3d\n",
    "class User:\n",
    "\n",
    "    seq = 0\n",
    "    objects = []\n",
    "\n",
    "    def __init__(self, nome, idade):\n",
    "        self.id = None\n",
    "        self.nome = nome\n",
    "        self.idade = idade\n",
    "\n",
    "    def save(self):\n",
    "        self.__class__.seq += 1\n",
    "        self.id = self.__class__.seq\n",
    "        self.__class__.objects.append(self)\n",
    "\n",
    "    def __str__(self):\n",
    "        return self.nome\n",
    "\n",
    "    def __repr__(self):\n",
    "        return '<{}: {} - {} - {}>\\n'.format(self.__class__.__name__, self.id, self.nome, self.idade)\n",
    "\n",
    "    @classmethod\n",
    "    def all(cls):\n",
    "        return cls.objects\n",
    "\n",
    "if __name__ == '__main__':\n",
    "    u1 = User('Regis', 35)\n",
    "    u1.save()\n",
    "    u2 = User('Fabio', 20)\n",
    "    u2.save()\n",
    "    print(User.all())"
   ]
  },
  {
   "cell_type": "markdown",
   "metadata": {},
   "source": [
    "QUESTAO 4\n"
   ]
  },
  {
   "cell_type": "markdown",
   "metadata": {},
   "source": [
    "O sistema mantém uma quantidade mínima de papel e tenta comprar os produtos a um preço baixo."
   ]
  },
  {
   "cell_type": "markdown",
   "metadata": {},
   "source": [
    "# Importando bibliotecas"
   ]
  },
  {
   "cell_type": "code",
   "execution_count": 1,
   "metadata": {},
   "outputs": [],
   "source": [
    "from random import * #Importanto biblioteca aleatoria para gerar crescimento e decrescimento aleatorio\n",
    "import matplotlib.pyplot as plt #Biblioteca de plotar grafico\n",
    "import numpy as np #Ambiente do python"
   ]
  },
  {
   "cell_type": "markdown",
   "metadata": {},
   "source": [
    "# Definição do ambiente\n",
    "\n",
    "*   Estoque de papel higiênico em um periodo\n",
    "*   Preço do produto em cada um dos dias\n",
    "*   Histórico de preços\n",
    "*   Histórico de estoque\n",
    "*   Histórico com a quantidade de produtos comprados"
   ]
  },
  {
   "cell_type": "code",
   "execution_count": 2,
   "metadata": {},
   "outputs": [],
   "source": [
    "# Definicao de ambiente\n",
    "class Ambiente():\n",
    "\n",
    "  def __init__(self):\n",
    "    # Ambiente para que o agente compreo o PH\n",
    "    self.num_dias=0 # Dia inicial do contador\n",
    "    self.estoque=30 # Valor do estoque inicial\n",
    "    self.historico_preco=[1.5] #start preço do PH\n",
    "    self.historico_estoque=[self.estoque] #Historico de estoque\n",
    "    self.historico_qtde_comprados=[0] #Quantidade comprados\n",
    "\n",
    "  def percebe_preco_atual(self):\n",
    "    return self.historico_preco[len(self.historico_preco)-1] #zera o contador de estoque para controle de data em len()-1\n",
    "\n",
    "  def percebe_estoque(self):\n",
    "    return self.historico_estoque[len(self.historico_estoque)-1]   #zera o contador de estoque para controle de data em len()-1\n",
    "            \n",
    "             #ambas definem um ponto de partida para o periodo\n",
    "\n",
    "  def run(self, dic_acoes):\n",
    "    \n",
    "    #Altera o ambiente\n",
    "    #Define a quantidade consumida com o rndm, sendo aleatório\n",
    "    #Atualiza o historico do preco atual e estoque\n",
    "    #Faz com que o agente decide se vai agir na compra\n",
    "    \n",
    "    # Consumo realizado (random)\n",
    "    qtde_consumidos = randint(0,10) #quantidade de rolos consumidas de 1 a 10, sendo escolhido aleatoriamente\n",
    "    estoque_atual = self.historico_estoque[len(self.historico_estoque)-1] - qtde_consumidos + dic_acoes[\"comprar\"] #interage a quantidade do estoque com o agente para a compra\n",
    "    self.historico_estoque.append(estoque_atual) #atualiza o estoque atual\n",
    "    self.historico_qtde_comprados.append(dic_acoes[\"comprar\"]) #atualiza quantos PH foram comprados\n",
    "\n",
    "    # Informando valor do produto no periodo (Atualizacao para o proximo dia)\n",
    "    valor = 1 + 2 * random() # novo valor do produto. random() gera valores entre [0,1] colocando a ideia de variação de centavos\n",
    "    self.historico_preco.append(valor) #valor"
   ]
  },
  {
   "cell_type": "markdown",
   "metadata": {},
   "source": [
    "# Definição do agente\n",
    "\n",
    "*   Ambiente - classes do agente\n",
    "*   Valor médio das compras\n",
    "*   Informação do último valor\n",
    "*   Informação sobre o estoque atual"
   ]
  },
  {
   "cell_type": "code",
   "execution_count": 3,
   "metadata": {},
   "outputs": [],
   "source": [
    "# Definição da classe agente\n",
    "\n",
    "class Agente():\n",
    "  \n",
    "  def __init__(self, ambiente):\n",
    "    self.num_dias = 1\n",
    "    self.ambiente= ambiente\n",
    "    self.estoque= ambiente.percebe_estoque()\n",
    "    self.total_gasto = 0\n",
    "    self.preco_atual = self.media = ambiente.percebe_preco_atual()\n",
    "\n",
    "  def executa_agente(self, qtde_dias=20):\n",
    "\n",
    "    for i in range(qtde_dias): \n",
    "      # O agente lê o estado do ambiente\n",
    "      self.estoque= self.ambiente.percebe_estoque()\n",
    "      self.preco_atual= self.ambiente.percebe_preco_atual()\n",
    "      \n",
    "      #Condições em que o agente irá comprar:\n",
    "      \n",
    "      if self.preco_atual < 0.8 * self.media and self.estoque < 50:\n",
    "        compra= 50\n",
    "      elif self.estoque < 12:\n",
    "        compra= 12\n",
    "      else:\n",
    "        compra= 0\n",
    "      \n",
    "      # Contador do produto gasto para controle\n",
    "      self.total_gasto += self.preco_atual*compra #contador +1\n",
    "      # O agente age\n",
    "      self.ambiente.run({\"comprar\": compra})\n",
    "      #Contador de dias\n",
    "      self.num_dias+=1\n",
    "      self.media = (self.media*(self.num_dias-1) + self.preco_atual)/self.num_dias"
   ]
  },
  {
   "cell_type": "markdown",
   "metadata": {},
   "source": [
    "## Resultados"
   ]
  },
  {
   "cell_type": "code",
   "execution_count": 4,
   "metadata": {},
   "outputs": [],
   "source": [
    "class Imprime():\n",
    "  def imprime_resultado(agente):\n",
    "    historico_dias = np.linspace(0, agente.num_dias, agente.num_dias)\n",
    "\n",
    "    # Primeira impressão: historico do preco\n",
    "    plt.plot(historico_dias, agente.ambiente.historico_preco, 'bo--', label='Historico (preço)')\n",
    "    plt.legend()\n",
    "    plt.show()\n",
    "\n",
    "    # Segunda impressão: historico qtde itens comprados\n",
    "    fig, ax = plt.subplots()\n",
    "    ax.vlines(historico_dias, ymin=0, ymax=agente.ambiente.historico_qtde_comprados)\n",
    "    ax.plot(historico_dias, agente.ambiente.historico_qtde_comprados, \"go\", label='Rolos comprados(quantidade)')\n",
    "    ax.set_ylim(0, 100)\n",
    "    plt.legend()\n",
    "    plt.show()\n",
    "\n",
    "    # Terceira impressão: historico do estoque\n",
    "    plt.plot(historico_dias, agente.ambiente.historico_estoque, 'rD--', label='Historico (estoque)')\n",
    "    plt.legend()\n",
    "    plt.show()\n",
    "\n",
    "    # Quarta impressão: Comparação de gráficos\n",
    "    plt.plot(historico_dias, agente.ambiente.historico_preco, 'y', label = 'Historico de preço')\n",
    "    plt.plot(historico_dias, agente.ambiente.historico_estoque, 'r', label = 'Historico de estoque')\n",
    "    plt.legend()\n",
    "\n",
    "    plt.title(\"Comparação entre infograficos de Historico de preço e Historico de estoque\")\n",
    "    \n",
    "    plt.show()\n",
    "\n"
   ]
  },
  {
   "cell_type": "markdown",
   "metadata": {},
   "source": [
    "# Execução"
   ]
  },
  {
   "cell_type": "code",
   "execution_count": 5,
   "metadata": {},
   "outputs": [
    {
     "data": {
      "image/png": "[encoded data removed]",
      "text/plain": [
       "<Figure size 432x288 with 1 Axes>"
      ]
     },
     "metadata": {
      "needs_background": "light"
     },
     "output_type": "display_data"
    },
    {
     "data": {
      "image/png": "[encoded data removed]",
      "text/plain": [
       "<Figure size 432x288 with 1 Axes>"
      ]
     },
     "metadata": {
      "needs_background": "light"
     },
     "output_type": "display_data"
    },
    {
     "data": {
      "image/png": "[encoded data removed]",
      "text/plain": [
       "<Figure size 432x288 with 1 Axes>"
      ]
     },
     "metadata": {
      "needs_background": "light"
     },
     "output_type": "display_data"
    },
    {
     "data": {
      "image/png": "[encoded data removed]",
      "text/plain": [
       "<Figure size 432x288 with 1 Axes>"
      ]
     },
     "metadata": {
      "needs_background": "light"
     },
     "output_type": "display_data"
    }
   ],
   "source": [
    "ambiente_atuacao = Ambiente()\n",
    "smart_predio = Agente(ambiente_atuacao)\n",
    "smart_predio.executa_agente(20)\n",
    "\n",
    "\n",
    "Imprime.imprime_resultado(smart_predio)"
   ]
  },
  {
   "cell_type": "markdown",
   "metadata": {},
   "source": [
    "## QUESTÕES TEÓRICAS"
   ]
  },
  {
   "cell_type": "markdown",
   "metadata": {},
   "source": [
    "João Victor Calixto de Brito \t\t\n",
    "BCC 325 - Inteligência Artificial Introdução\n",
    "Estudo Dirigido \n",
    "Questões teóricas\n",
    "1\tPode se dizer que a inteligência artificial, ou IA, é o campo que estuda a síntese e análise de agentes computacionais que agem de forma inteligente.\n",
    "\n",
    "2\tUm agente é algo que interage em um ambiente. \n",
    "Pode se considerar agentes cães, termostatos, aviões, robôs, humanos, empresas, etc. Assim pode se classificar a partir de suas ações.\n",
    "Componentes de especificação de agentes: PEAS (Performance, Environment, Actuators, Sensors ) \n",
    "Ambiente de tarefa: \n",
    "– P - Performance \n",
    "– E - Ambiente \n",
    "– A - Atuadores \n",
    "– S – Sensores\n",
    "\n",
    "3\tPode se dizer que o agente ideal entre o A1 e A2 será o que fazer o que é apropriado para suas circunstâncias e seus objetivos, levando em consideração as consequências de suas ações a curto e longo prazo, sendo flexível para ambientes em mudança e metas, aprende com a experiência e faz escolhas apropriadas dadas suas limitações perceptuais e computacionais.\n",
    "\n",
    "4\tEm uma casa inteligente que deve controlar o ambiente, garante o abastecimento, se auto manter em performance sendo controlado pelos recursos financeiros dos usuários, pode se dizer que necessita possui conhecimento dos recursos monetários dos moradores, o quanto se é utilizado/ gasto diariamente, com sensores de danos e de ambiente, como termômetros, e ainda ter contatos de terceiros que irão ser acionados caso haja algum problema. A casa irá utilizar agentes sensores, acionais como limpadores automáticos, computadores para entrar em contato com estabelecimentos, e experiencia para aprender como é o estilo de vida de seus moradores.\n",
    "\n",
    "\n",
    "5\tEm IA, sistema inteligentes são vistos/ modelados como agentes inteligentes.\n",
    " \n",
    "Assim, agente é qualquer entidade que percebe seu ambiente através de sensores e age sobre o ambiente através de atuadores.\n",
    "Então há uma relação entre Agente e Ambiente.\n",
    " \n",
    "\n",
    "Exemplos de agentes que percebe: câmeras, mics, teclado, conteúdo de arquivos ou de BD,...)\n",
    "Exemplos de agentes que age: robôs, vídeo, auto-falante, impressora, chamada de um programa, escrita em arquivos, ...)\n",
    "IA se preocupa em projetar o programa do agente: \n",
    "função que implementa o mapeamento entre percepção e ação \n",
    "• O programa do agente roda em uma arquitetura: dispositivo de computação que inclui sensores e atuadores. agente = arquitetura + programa \n",
    "\n",
    "\n",
    "\n",
    "\n",
    "\n",
    "6\tA) \t\tUm agente pode ser construído se dividindo o corpo em sensores e atuadores, com um sistema de percepção complexo que alimenta uma descrição do mundo em um mecanismo de raciocínio que implementa um controlador que emite comandos aos atuadores. Assim acarreta em uma arquitetura ruim para sistemas inteligentes, sendo lento e difícil de conciliar o raciocínio lento sobre o objetivo complexo e de alto nível com a reação rápida que o agente PRECISA para tarefas de nível inferior, como evitar obstáculos. \n",
    "Então se criou a alternativa de arquitetura que é a controle hierárquico, sendo cada camada irá considerar a camada inferior como um corpo virtual que envia percepção e recebe comandos.\n",
    "\n",
    "B)\t\tO horizonte de planejamento no nível inferior é muito mais curto do que o horizonte de planejamento nos níveis superiores. As camadas de nível mais baixo são mais rápidas, reagem aos aspectos de mundo que necessitam ser rápidos e entrega de forma mais simples a percepção de ambiente as camadas mais altas, evitando informações não essenciais as camadas mais altas.\n",
    "\n",
    "C)\t\tUm traço de percepção para um agente é a sequência de todas as percepções passadas, presentes e futuras recebidas pelo controlador. Um traço de comando é a sequência de todos os comandos passados, presentes e futuros emitidos pelo controlador. \n",
    "Os comandos podem ser uma função da história das percepções, considerado transdução, uma função de traços de percepção em traços de comando.\n",
    "Por todos os agentes serem situados em tempo, ele não pode observar todos os traços de percepção em qualquer momento, ele apenas experienciou parte do traço até o agora. Um agente só pode observar o valor de um traço até o tempo t, o comando não pode depender as percepções depois do tempo t.\n",
    "\n",
    "Assim, a transdução é casual se, sempre que t, o comando no tempo t depende apenas da percepção ate a inclusão do tempo t. O restringimento da casualidade é necessário porque agentes estão situados em tempo, seus comandos não podem depender de percepções futuras.\n",
    "Assim, a transdução causal mapeia o histórico do agente no tempo t ate o comando no tempo t, assim pode ver como a especificação comum de um controlador.\n",
    "\n",
    "D)\t\tUma transdução causal é a função de um histórico de um histórico de agente, não pode ser diretamente implementado porque um agente não tem acesso direto ao seu histórico, ele tem acesso apenas as percepções atuais e o que ele lembrou.\n",
    "\n",
    "A memoria ou estado de criança de um agente no tempo t são todas as informações que um agente tem lembrado de ultimas experiencias. Com seu acesso limitado, ele acessará o histórico do seu estado de crença. Assim, este estado encapsula todas as informações sobre o histórico que o agente pode usar para comandos atuais e futuros. Um agente pode acessar o estado de crença a qualquer momento.\n",
    "\n",
    "7\t        Conhecimento prioritário sobre o agente e seu ambiente\n",
    "Histórico de uma interação com o ambiente, que é composto por:\n",
    "\tEstímulos recebido do atual ambiente, o que pode incluir observações sobre o ambiente, assim como as ações que o ambiente propõe ao agente e experiencias passadas de antigas ações e estímulos, ou outra informação, de que ele pode aprender. \n",
    "Objetivos que devem ser alcançados ou preferencias sobre estados do mundo\n",
    "Habilidades, a ação primitiva para que o agente seja capaz de se virar.\n",
    "\n",
    "8\t       O controlador hierárquico possui três tipos de inputs a cada tempo:\n",
    "Os recursos que vem do estado de crença, são referidos como os valores lembrados ou anteriores desses recursos.\n",
    "Os recursos que representam as percepções da camada abaixo na hierarquia.\n",
    "\t\n"
   ]
  }
 ],
 "metadata": {
  "interpreter": {
   "hash": "5dcb956a9836ff1b933445fcf1feb8fe66535bc0a9a9152eaf00f8fb8a7284e4"
  },
  "kernelspec": {
   "display_name": "Python 3.10.3 64-bit",
   "language": "python",
   "name": "python3"
  },
  "language_info": {
   "codemirror_mode": {
    "name": "ipython",
    "version": 3
   },
   "file_extension": ".py",
   "mimetype": "text/x-python",
   "name": "python",
   "nbconvert_exporter": "python",
   "pygments_lexer": "ipython3",
   "version": "3.10.3"
  },
  "orig_nbformat": 4
 },
 "nbformat": 4,
 "nbformat_minor": 2
}
